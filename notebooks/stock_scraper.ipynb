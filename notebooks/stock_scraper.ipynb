{
 "cells": [
  {
   "cell_type": "code",
   "execution_count": null,
   "id": "45578f49",
   "metadata": {},
   "outputs": [
    {
     "name": "stdout",
     "output_type": "stream",
     "text": [
      "Number of valid rows extracted: 25\n",
      "  Symbol                         Name   Price   Change Percent Change  \\\n",
      "0   APLD  Applied Digital Corporation   10.14    +3.31      (+48.46%)   \n",
      "1   LCID            Lucid Group, Inc.  2.2000  -0.0300       (-1.35%)   \n",
      "2   NVDA           NVIDIA Corporation  137.38    +2.25       (+1.67%)   \n",
      "3      F           Ford Motor Company    9.98    -0.40       (-3.85%)   \n",
      "4    CLF        Cleveland-Cliffs Inc.    7.18    +1.35      (+23.16%)   \n",
      "\n",
      "     Volume Market Cap  \n",
      "0  237.182M    31.485M  \n",
      "1  200.371M   114.431M  \n",
      "2  194.625M   279.548M  \n",
      "3  167.807M   128.663M  \n",
      "4   115.34M    24.199M  \n"
     ]
    }
   ],
   "source": [
    "import requests\n",
    "from bs4 import BeautifulSoup\n",
    "import pandas as pd\n",
    "\n",
    "URL = \"https://finance.yahoo.com/most-active\"\n",
    "\n",
    "headers = {\n",
    "    \"User-Agent\": \"Mozilla/5.0\"\n",
    "}\n",
    "\n",
    "response = requests.get(URL, headers=headers)\n",
    "soup = BeautifulSoup(response.text, \"html.parser\")\n",
    "\n",
    "# Find the table\n",
    "table = soup.find(\"table\",class_='yf-1570k0a bd')\n",
    "# print(table.prettify())\n",
    "\n",
    "# Extract the rows from the table\n",
    "rows = table.find_all(\"tr\")[1:]\n",
    "# print(f\"Number of rows found: {len(rows)}\")\n",
    "\n",
    "data = []\n",
    "for row in rows:\n",
    "    cols = row.find_all(\"td\")\n",
    "    if len(cols) < 7:  # Ensure there are enough columns\n",
    "        continue\n",
    "    price_cell = cols[3].text.strip()\n",
    "    try:\n",
    "        # Check if the price is a valid number\n",
    "        price_parts = price_cell.split(\" \")\n",
    "        price = price_parts[0]\n",
    "        change = price_parts[1]\n",
    "        percent_change = price_parts[2]\n",
    "    except IndexError:\n",
    "        print(f\"Skipping row due to IndexError: {row}\")\n",
    "        continue\n",
    "    stock_data = {\n",
    "        \"Symbol\": cols[0].text.strip(),\n",
    "        \"Name\": cols[1].text.strip(),\n",
    "        \"Price\": price,\n",
    "        \"Change\": change,\n",
    "        \"Percent Change\": percent_change,\n",
    "        \"Volume\": cols[6].text.strip(),\n",
    "        \"Market Cap\": cols[7].text.strip()\n",
    "    }\n",
    "    data.append(stock_data)\n",
    "\n",
    "print(f\"Number of valid rows extracted: {len(data)}\")\n",
    "\n",
    "# Create a DataFrame\n",
    "df = pd.DataFrame(data)\n",
    "print(df.head())\n",
    "\n",
    "# Save to CSV\n",
    "df.to_csv(\"most_active_stocks.csv\", index=False)"
   ]
  }
 ],
 "metadata": {
  "kernelspec": {
   "display_name": "Python 3",
   "language": "python",
   "name": "python3"
  },
  "language_info": {
   "codemirror_mode": {
    "name": "ipython",
    "version": 3
   },
   "file_extension": ".py",
   "mimetype": "text/x-python",
   "name": "python",
   "nbconvert_exporter": "python",
   "pygments_lexer": "ipython3",
   "version": "3.11.9"
  }
 },
 "nbformat": 4,
 "nbformat_minor": 5
}
